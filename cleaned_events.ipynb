{
 "cells": [
  {
   "cell_type": "code",
   "execution_count": 1,
   "id": "2519f700-f35b-4079-bb53-7b2b585956f0",
   "metadata": {},
   "outputs": [],
   "source": [
    "#import necessary library\n",
    "import numpy as np # linear algebra\n",
    "import pandas as pd # data manipulation and analysis\n",
    "import matplotlib.pyplot as plt # data visualization\n",
    "import seaborn as sns # data visualization\n",
    "sns.set_style('whitegrid') # set style for visualization\n",
    "import warnings # ignore warnings\n",
    "warnings.filterwarnings('ignore')\n",
    "from initial_report import *\n",
    "import ast"
   ]
  },
  {
   "cell_type": "code",
   "execution_count": 2,
   "id": "4f7dc60f-638c-45d8-90ef-3be37fbe35bd",
   "metadata": {},
   "outputs": [],
   "source": [
    "#import dataset\n",
    "df_events=pd.read_csv(\"events.csv\")"
   ]
  },
  {
   "cell_type": "code",
   "execution_count": 3,
   "id": "3ce6ea23-b2b3-491f-b720-04f671cf01f6",
   "metadata": {},
   "outputs": [
    {
     "data": {
      "text/html": [
       "<div>\n",
       "<style scoped>\n",
       "    .dataframe tbody tr th:only-of-type {\n",
       "        vertical-align: middle;\n",
       "    }\n",
       "\n",
       "    .dataframe tbody tr th {\n",
       "        vertical-align: top;\n",
       "    }\n",
       "\n",
       "    .dataframe thead th {\n",
       "        text-align: right;\n",
       "    }\n",
       "</style>\n",
       "<table border=\"1\" class=\"dataframe\">\n",
       "  <thead>\n",
       "    <tr style=\"text-align: right;\">\n",
       "      <th></th>\n",
       "      <th>customer_id</th>\n",
       "      <th>event</th>\n",
       "      <th>value</th>\n",
       "      <th>time</th>\n",
       "    </tr>\n",
       "  </thead>\n",
       "  <tbody>\n",
       "    <tr>\n",
       "      <th>197237</th>\n",
       "      <td>df1e6d50effb4af28aff99f69fd3f394</td>\n",
       "      <td>transaction</td>\n",
       "      <td>{'amount': 21.03}</td>\n",
       "      <td>486</td>\n",
       "    </tr>\n",
       "    <tr>\n",
       "      <th>29829</th>\n",
       "      <td>26829118683847c8ae5374b27a1e774d</td>\n",
       "      <td>transaction</td>\n",
       "      <td>{'amount': 7.83}</td>\n",
       "      <td>48</td>\n",
       "    </tr>\n",
       "    <tr>\n",
       "      <th>240277</th>\n",
       "      <td>2d89a01a8c14465ea44f7167ead0811c</td>\n",
       "      <td>offer completed</td>\n",
       "      <td>{'offer_id': '2298d6c36e964ae4a3e7e9706d1fb8c2...</td>\n",
       "      <td>558</td>\n",
       "    </tr>\n",
       "    <tr>\n",
       "      <th>139869</th>\n",
       "      <td>098d957407b44982a3debf3337aa6b9c</td>\n",
       "      <td>transaction</td>\n",
       "      <td>{'amount': 7.5}</td>\n",
       "      <td>372</td>\n",
       "    </tr>\n",
       "    <tr>\n",
       "      <th>52332</th>\n",
       "      <td>479134f6760f4d69b5f368075ac1aca1</td>\n",
       "      <td>transaction</td>\n",
       "      <td>{'amount': 1.44}</td>\n",
       "      <td>162</td>\n",
       "    </tr>\n",
       "  </tbody>\n",
       "</table>\n",
       "</div>"
      ],
      "text/plain": [
       "                             customer_id            event  \\\n",
       "197237  df1e6d50effb4af28aff99f69fd3f394      transaction   \n",
       "29829   26829118683847c8ae5374b27a1e774d      transaction   \n",
       "240277  2d89a01a8c14465ea44f7167ead0811c  offer completed   \n",
       "139869  098d957407b44982a3debf3337aa6b9c      transaction   \n",
       "52332   479134f6760f4d69b5f368075ac1aca1      transaction   \n",
       "\n",
       "                                                    value  time  \n",
       "197237                                  {'amount': 21.03}   486  \n",
       "29829                                    {'amount': 7.83}    48  \n",
       "240277  {'offer_id': '2298d6c36e964ae4a3e7e9706d1fb8c2...   558  \n",
       "139869                                    {'amount': 7.5}   372  \n",
       "52332                                    {'amount': 1.44}   162  "
      ]
     },
     "execution_count": 3,
     "metadata": {},
     "output_type": "execute_result"
    }
   ],
   "source": [
    "#randomly get 5 rows\n",
    "df_events.sample(5)"
   ]
  },
  {
   "cell_type": "code",
   "execution_count": 4,
   "id": "2aba30e3-b59e-42eb-8f93-988bd429181b",
   "metadata": {},
   "outputs": [
    {
     "name": "stdout",
     "output_type": "stream",
     "text": [
      " *** DATA CLEANING CHECKLIST ***\n",
      "----------------------------------------\n",
      "*** Structure:\n",
      "- Total Rows: 306534\n",
      "- Total Columns: 4\n",
      "- Column Names: ['customer_id', 'event', 'value', 'time']\n",
      "\n",
      "*** Data Types:\n",
      "  customer_id: object\n",
      "  event: object\n",
      "  value: object\n",
      "  time: int64\n",
      "\n",
      "*** Mixed Data Types:\n",
      "\n",
      "*** Distinct Values per Column:\n",
      "  customer_id: 17000\n",
      "  event: 4\n",
      "  value: 5121\n",
      "  time: 120\n",
      "\n",
      "*** Null Values and Percentages:\n",
      "\n",
      "\n",
      "*** Duplicates: 397\n",
      "\n",
      "*** Negative or Zero Values:\n",
      "  time: 15561\n",
      "\n",
      "*** Basic Statistics:\n",
      "                time\n",
      "count  306534.000000\n",
      "mean      366.382940\n",
      "std       200.326314\n",
      "min         0.000000\n",
      "25%       186.000000\n",
      "50%       408.000000\n",
      "75%       528.000000\n",
      "max       714.000000\n",
      "\n",
      "*** Category Description:\n",
      "                             customer_id        event  \\\n",
      "count                             306534       306534   \n",
      "unique                             17000            4   \n",
      "top     94de646f7b6041228ca7dec82adb97d2  transaction   \n",
      "freq                                  51       138953   \n",
      "\n",
      "                                                   value  \n",
      "count                                             306534  \n",
      "unique                                              5121  \n",
      "top     {'offer id': '2298d6c36e964ae4a3e7e9706d1fb8c2'}  \n",
      "freq                                               14983  \n",
      "\n",
      "*** Outliers (IQR method):\n",
      "  time: No outliers\n",
      "    Lower Bound: -327.00\n",
      "    Upper Bound: 1041.00\n",
      "----------------------------------------\n"
     ]
    }
   ],
   "source": [
    "#get_initial_report\n",
    "initial_report(df_events)"
   ]
  },
  {
   "cell_type": "markdown",
   "id": "0a53f884-58f6-4130-a402-14ad27e09976",
   "metadata": {},
   "source": [
    "1. has duplicates\n",
    "2. has negatives\n",
    "3. need to check the data type of column-> value\n",
    "4. check categroy description for event column"
   ]
  },
  {
   "cell_type": "code",
   "execution_count": 5,
   "id": "e9989a10-fe65-4585-b2b8-6e6cbe386fbb",
   "metadata": {},
   "outputs": [
    {
     "data": {
      "text/plain": [
       "event\n",
       "transaction        138953\n",
       "offer received      76277\n",
       "offer viewed        57725\n",
       "offer completed     33579\n",
       "Name: count, dtype: int64"
      ]
     },
     "execution_count": 5,
     "metadata": {},
     "output_type": "execute_result"
    }
   ],
   "source": [
    "#get counts for column: event\n",
    "df_events.event.value_counts()"
   ]
  },
  {
   "cell_type": "code",
   "execution_count": 6,
   "id": "29ddc47a-0956-4596-a2d0-adcfc2d01cdf",
   "metadata": {},
   "outputs": [
    {
     "data": {
      "text/html": [
       "<div>\n",
       "<style scoped>\n",
       "    .dataframe tbody tr th:only-of-type {\n",
       "        vertical-align: middle;\n",
       "    }\n",
       "\n",
       "    .dataframe tbody tr th {\n",
       "        vertical-align: top;\n",
       "    }\n",
       "\n",
       "    .dataframe thead th {\n",
       "        text-align: right;\n",
       "    }\n",
       "</style>\n",
       "<table border=\"1\" class=\"dataframe\">\n",
       "  <thead>\n",
       "    <tr style=\"text-align: right;\">\n",
       "      <th></th>\n",
       "      <th>customer_id</th>\n",
       "      <th>event</th>\n",
       "      <th>value</th>\n",
       "      <th>time</th>\n",
       "    </tr>\n",
       "  </thead>\n",
       "  <tbody>\n",
       "    <tr>\n",
       "      <th>66122</th>\n",
       "      <td>3dde94fa581145cb9f206624f1a94d5a</td>\n",
       "      <td>offer completed</td>\n",
       "      <td>{'offer_id': '2906b810c7d4411798c6938adc9daaa5...</td>\n",
       "      <td>168</td>\n",
       "    </tr>\n",
       "    <tr>\n",
       "      <th>66123</th>\n",
       "      <td>3dde94fa581145cb9f206624f1a94d5a</td>\n",
       "      <td>offer completed</td>\n",
       "      <td>{'offer_id': '2906b810c7d4411798c6938adc9daaa5...</td>\n",
       "      <td>168</td>\n",
       "    </tr>\n",
       "    <tr>\n",
       "      <th>66782</th>\n",
       "      <td>e9fb6ed2cecb4980ba98c86abc9c91e3</td>\n",
       "      <td>offer completed</td>\n",
       "      <td>{'offer_id': 'ae264e3637204a6fb9bb56bc8210ddfd...</td>\n",
       "      <td>168</td>\n",
       "    </tr>\n",
       "    <tr>\n",
       "      <th>66783</th>\n",
       "      <td>e9fb6ed2cecb4980ba98c86abc9c91e3</td>\n",
       "      <td>offer completed</td>\n",
       "      <td>{'offer_id': 'ae264e3637204a6fb9bb56bc8210ddfd...</td>\n",
       "      <td>168</td>\n",
       "    </tr>\n",
       "    <tr>\n",
       "      <th>67613</th>\n",
       "      <td>a7dc060f6fc94ca7bf71fbb188187dca</td>\n",
       "      <td>offer completed</td>\n",
       "      <td>{'offer_id': '9b98b8c7a33c4b65b9aebfe6a799e6d9...</td>\n",
       "      <td>168</td>\n",
       "    </tr>\n",
       "    <tr>\n",
       "      <th>...</th>\n",
       "      <td>...</td>\n",
       "      <td>...</td>\n",
       "      <td>...</td>\n",
       "      <td>...</td>\n",
       "    </tr>\n",
       "    <tr>\n",
       "      <th>304756</th>\n",
       "      <td>0785f1fce0b04ba08e01c7d2ebab4917</td>\n",
       "      <td>offer completed</td>\n",
       "      <td>{'offer_id': '0b1e1539f2cc45b7b9fa7c272da2e1d7...</td>\n",
       "      <td>708</td>\n",
       "    </tr>\n",
       "    <tr>\n",
       "      <th>305550</th>\n",
       "      <td>b7e216b6472b46648272c29a52a86702</td>\n",
       "      <td>offer completed</td>\n",
       "      <td>{'offer_id': 'fafdcd668e3743c1bb461111dcafc2a4...</td>\n",
       "      <td>714</td>\n",
       "    </tr>\n",
       "    <tr>\n",
       "      <th>305551</th>\n",
       "      <td>b7e216b6472b46648272c29a52a86702</td>\n",
       "      <td>offer completed</td>\n",
       "      <td>{'offer_id': 'fafdcd668e3743c1bb461111dcafc2a4...</td>\n",
       "      <td>714</td>\n",
       "    </tr>\n",
       "    <tr>\n",
       "      <th>306455</th>\n",
       "      <td>f3e801caeafe4899b3b989b586e74ac7</td>\n",
       "      <td>offer completed</td>\n",
       "      <td>{'offer_id': '0b1e1539f2cc45b7b9fa7c272da2e1d7...</td>\n",
       "      <td>714</td>\n",
       "    </tr>\n",
       "    <tr>\n",
       "      <th>306456</th>\n",
       "      <td>f3e801caeafe4899b3b989b586e74ac7</td>\n",
       "      <td>offer completed</td>\n",
       "      <td>{'offer_id': '0b1e1539f2cc45b7b9fa7c272da2e1d7...</td>\n",
       "      <td>714</td>\n",
       "    </tr>\n",
       "  </tbody>\n",
       "</table>\n",
       "<p>793 rows × 4 columns</p>\n",
       "</div>"
      ],
      "text/plain": [
       "                             customer_id            event  \\\n",
       "66122   3dde94fa581145cb9f206624f1a94d5a  offer completed   \n",
       "66123   3dde94fa581145cb9f206624f1a94d5a  offer completed   \n",
       "66782   e9fb6ed2cecb4980ba98c86abc9c91e3  offer completed   \n",
       "66783   e9fb6ed2cecb4980ba98c86abc9c91e3  offer completed   \n",
       "67613   a7dc060f6fc94ca7bf71fbb188187dca  offer completed   \n",
       "...                                  ...              ...   \n",
       "304756  0785f1fce0b04ba08e01c7d2ebab4917  offer completed   \n",
       "305550  b7e216b6472b46648272c29a52a86702  offer completed   \n",
       "305551  b7e216b6472b46648272c29a52a86702  offer completed   \n",
       "306455  f3e801caeafe4899b3b989b586e74ac7  offer completed   \n",
       "306456  f3e801caeafe4899b3b989b586e74ac7  offer completed   \n",
       "\n",
       "                                                    value  time  \n",
       "66122   {'offer_id': '2906b810c7d4411798c6938adc9daaa5...   168  \n",
       "66123   {'offer_id': '2906b810c7d4411798c6938adc9daaa5...   168  \n",
       "66782   {'offer_id': 'ae264e3637204a6fb9bb56bc8210ddfd...   168  \n",
       "66783   {'offer_id': 'ae264e3637204a6fb9bb56bc8210ddfd...   168  \n",
       "67613   {'offer_id': '9b98b8c7a33c4b65b9aebfe6a799e6d9...   168  \n",
       "...                                                   ...   ...  \n",
       "304756  {'offer_id': '0b1e1539f2cc45b7b9fa7c272da2e1d7...   708  \n",
       "305550  {'offer_id': 'fafdcd668e3743c1bb461111dcafc2a4...   714  \n",
       "305551  {'offer_id': 'fafdcd668e3743c1bb461111dcafc2a4...   714  \n",
       "306455  {'offer_id': '0b1e1539f2cc45b7b9fa7c272da2e1d7...   714  \n",
       "306456  {'offer_id': '0b1e1539f2cc45b7b9fa7c272da2e1d7...   714  \n",
       "\n",
       "[793 rows x 4 columns]"
      ]
     },
     "execution_count": 6,
     "metadata": {},
     "output_type": "execute_result"
    }
   ],
   "source": [
    "#see all the duplicates\n",
    "df_events[df_events.duplicated(keep=False)]"
   ]
  },
  {
   "cell_type": "code",
   "execution_count": 7,
   "id": "6888d73b-b584-409b-819b-c1f640d0ffe9",
   "metadata": {},
   "outputs": [],
   "source": [
    "#delete duplicates\n",
    "df_events.drop_duplicates(inplace=True)"
   ]
  },
  {
   "cell_type": "code",
   "execution_count": 8,
   "id": "92c22cce-40f9-4d32-978a-13ec4e7c2217",
   "metadata": {},
   "outputs": [
    {
     "data": {
      "text/plain": [
       "(306137, 4)"
      ]
     },
     "execution_count": 8,
     "metadata": {},
     "output_type": "execute_result"
    }
   ],
   "source": [
    "df_events.shape"
   ]
  },
  {
   "cell_type": "code",
   "execution_count": 9,
   "id": "27ed8de5-9d71-4e5f-9a04-eff3195c519e",
   "metadata": {},
   "outputs": [
    {
     "data": {
      "text/plain": [
       "value\n",
       "<class 'str'>    306137\n",
       "Name: count, dtype: int64"
      ]
     },
     "execution_count": 9,
     "metadata": {},
     "output_type": "execute_result"
    }
   ],
   "source": [
    "#check data type for value\n",
    "df_events['value'].apply(type).value_counts()"
   ]
  },
  {
   "cell_type": "code",
   "execution_count": 10,
   "id": "7e3f8d0b-4096-4982-9322-2f2021861204",
   "metadata": {},
   "outputs": [],
   "source": [
    "#convert 'value\" to dict\n",
    "df_events['value'] = df_events['value'].apply(ast.literal_eval)"
   ]
  },
  {
   "cell_type": "code",
   "execution_count": 11,
   "id": "327ca56f-b369-4b34-a4ab-89006bb1bbbe",
   "metadata": {},
   "outputs": [
    {
     "data": {
      "text/plain": [
       "value\n",
       "<class 'dict'>    306137\n",
       "Name: count, dtype: int64"
      ]
     },
     "execution_count": 11,
     "metadata": {},
     "output_type": "execute_result"
    }
   ],
   "source": [
    "#again: check data type for value\n",
    "df_events['value'].apply(type).value_counts()"
   ]
  },
  {
   "cell_type": "code",
   "execution_count": 12,
   "id": "2c2981ae-0ed0-4e6a-b923-0eab7ead9899",
   "metadata": {},
   "outputs": [
    {
     "name": "stdout",
     "output_type": "stream",
     "text": [
      "['offer id', 'amount', 'offer_id', 'reward']\n"
     ]
    }
   ],
   "source": [
    "#check list of keys\n",
    "from itertools import chain\n",
    "\n",
    "# Create a flat list of all keys used in the 'value' column\n",
    "all_keys = list(set(chain.from_iterable(df_events['value'].apply(lambda x: x.keys()))))\n",
    "\n",
    "print(all_keys)\n"
   ]
  },
  {
   "cell_type": "markdown",
   "id": "1b62ae94-bb3f-4f26-a8bc-5814ef3c475e",
   "metadata": {},
   "source": [
    "1.there are two offer_id; need to standardize"
   ]
  },
  {
   "cell_type": "code",
   "execution_count": 13,
   "id": "96d939f6-4a01-4e3f-840f-e78223713c23",
   "metadata": {},
   "outputs": [],
   "source": [
    "#standardize offer_id keys\n",
    "def standardize_keys(d):\n",
    "    return {k.replace(' ', '_').lower(): v for k, v in d.items()}\n",
    "\n",
    "df_events['value'] = df_events['value'].apply(standardize_keys)\n"
   ]
  },
  {
   "cell_type": "code",
   "execution_count": 14,
   "id": "6919df67-7c7b-4930-8c7b-d39c92b35563",
   "metadata": {},
   "outputs": [
    {
     "name": "stdout",
     "output_type": "stream",
     "text": [
      "['amount', 'offer_id', 'reward']\n"
     ]
    }
   ],
   "source": [
    "#check again the list\n",
    "from itertools import chain\n",
    "\n",
    "# Create a flat list of all keys used in the 'value' column\n",
    "all_keys = list(set(chain.from_iterable(df_events['value'].apply(lambda x: x.keys()))))\n",
    "\n",
    "print(all_keys)"
   ]
  },
  {
   "cell_type": "code",
   "execution_count": 15,
   "id": "c7c20d28-c140-4d31-963a-a3bd3b975f51",
   "metadata": {},
   "outputs": [],
   "source": [
    "## Expand the dictionary into separate columns\n",
    "value_expanded = df_events['value'].apply(pd.Series)\n",
    "\n",
    "# Join back to the original DataFrame\n",
    "df_events = df_events.drop('value', axis=1).join(value_expanded)"
   ]
  },
  {
   "cell_type": "code",
   "execution_count": 16,
   "id": "8242aa48-7f97-41db-a860-2136cdab94bb",
   "metadata": {},
   "outputs": [
    {
     "data": {
      "text/html": [
       "<div>\n",
       "<style scoped>\n",
       "    .dataframe tbody tr th:only-of-type {\n",
       "        vertical-align: middle;\n",
       "    }\n",
       "\n",
       "    .dataframe tbody tr th {\n",
       "        vertical-align: top;\n",
       "    }\n",
       "\n",
       "    .dataframe thead th {\n",
       "        text-align: right;\n",
       "    }\n",
       "</style>\n",
       "<table border=\"1\" class=\"dataframe\">\n",
       "  <thead>\n",
       "    <tr style=\"text-align: right;\">\n",
       "      <th></th>\n",
       "      <th>customer_id</th>\n",
       "      <th>event</th>\n",
       "      <th>time</th>\n",
       "      <th>offer_id</th>\n",
       "      <th>amount</th>\n",
       "      <th>reward</th>\n",
       "    </tr>\n",
       "  </thead>\n",
       "  <tbody>\n",
       "    <tr>\n",
       "      <th>96495</th>\n",
       "      <td>13ecf35c6ec649db93b66c311b7e75ba</td>\n",
       "      <td>transaction</td>\n",
       "      <td>258</td>\n",
       "      <td>NaN</td>\n",
       "      <td>1.54</td>\n",
       "      <td>NaN</td>\n",
       "    </tr>\n",
       "    <tr>\n",
       "      <th>150322</th>\n",
       "      <td>a4c5415b4a7648d185dfd0379dde947a</td>\n",
       "      <td>transaction</td>\n",
       "      <td>402</td>\n",
       "      <td>NaN</td>\n",
       "      <td>50.89</td>\n",
       "      <td>NaN</td>\n",
       "    </tr>\n",
       "    <tr>\n",
       "      <th>115047</th>\n",
       "      <td>5ea3a25585c1450f951021fffe2e4237</td>\n",
       "      <td>offer received</td>\n",
       "      <td>336</td>\n",
       "      <td>2298d6c36e964ae4a3e7e9706d1fb8c2</td>\n",
       "      <td>NaN</td>\n",
       "      <td>NaN</td>\n",
       "    </tr>\n",
       "    <tr>\n",
       "      <th>294163</th>\n",
       "      <td>d6b3d727359043719c22a41fb01ecca2</td>\n",
       "      <td>transaction</td>\n",
       "      <td>660</td>\n",
       "      <td>NaN</td>\n",
       "      <td>19.82</td>\n",
       "      <td>NaN</td>\n",
       "    </tr>\n",
       "    <tr>\n",
       "      <th>33170</th>\n",
       "      <td>7e38a7ef322b4e1ca4f14221af478d26</td>\n",
       "      <td>offer viewed</td>\n",
       "      <td>60</td>\n",
       "      <td>3f207df678b143eea3cee63160fa8bed</td>\n",
       "      <td>NaN</td>\n",
       "      <td>NaN</td>\n",
       "    </tr>\n",
       "  </tbody>\n",
       "</table>\n",
       "</div>"
      ],
      "text/plain": [
       "                             customer_id           event  time  \\\n",
       "96495   13ecf35c6ec649db93b66c311b7e75ba     transaction   258   \n",
       "150322  a4c5415b4a7648d185dfd0379dde947a     transaction   402   \n",
       "115047  5ea3a25585c1450f951021fffe2e4237  offer received   336   \n",
       "294163  d6b3d727359043719c22a41fb01ecca2     transaction   660   \n",
       "33170   7e38a7ef322b4e1ca4f14221af478d26    offer viewed    60   \n",
       "\n",
       "                                offer_id  amount  reward  \n",
       "96495                                NaN    1.54     NaN  \n",
       "150322                               NaN   50.89     NaN  \n",
       "115047  2298d6c36e964ae4a3e7e9706d1fb8c2     NaN     NaN  \n",
       "294163                               NaN   19.82     NaN  \n",
       "33170   3f207df678b143eea3cee63160fa8bed     NaN     NaN  "
      ]
     },
     "execution_count": 16,
     "metadata": {},
     "output_type": "execute_result"
    }
   ],
   "source": [
    "#check sample\n",
    "df_events.sample(5)"
   ]
  },
  {
   "cell_type": "code",
   "execution_count": 17,
   "id": "5d52adb9-2417-4128-883f-af54d9fc29cf",
   "metadata": {},
   "outputs": [
    {
     "data": {
      "text/html": [
       "<div>\n",
       "<style scoped>\n",
       "    .dataframe tbody tr th:only-of-type {\n",
       "        vertical-align: middle;\n",
       "    }\n",
       "\n",
       "    .dataframe tbody tr th {\n",
       "        vertical-align: top;\n",
       "    }\n",
       "\n",
       "    .dataframe thead th {\n",
       "        text-align: right;\n",
       "    }\n",
       "</style>\n",
       "<table border=\"1\" class=\"dataframe\">\n",
       "  <thead>\n",
       "    <tr style=\"text-align: right;\">\n",
       "      <th></th>\n",
       "      <th>customer_id</th>\n",
       "      <th>event</th>\n",
       "      <th>time</th>\n",
       "      <th>offer_id</th>\n",
       "      <th>amount</th>\n",
       "      <th>reward</th>\n",
       "    </tr>\n",
       "  </thead>\n",
       "  <tbody>\n",
       "  </tbody>\n",
       "</table>\n",
       "</div>"
      ],
      "text/plain": [
       "Empty DataFrame\n",
       "Columns: [customer_id, event, time, offer_id, amount, reward]\n",
       "Index: []"
      ]
     },
     "execution_count": 17,
     "metadata": {},
     "output_type": "execute_result"
    }
   ],
   "source": [
    "#chheck negative in time column\n",
    "df_events[df_events.time<0]"
   ]
  },
  {
   "cell_type": "markdown",
   "id": "53c8c6c5-3239-400b-8c80-a8b9f266cb8f",
   "metadata": {},
   "source": [
    "1. No negative no problem"
   ]
  },
  {
   "cell_type": "code",
   "execution_count": 18,
   "id": "249a0052-794c-4859-bb82-1b546bfa777c",
   "metadata": {},
   "outputs": [],
   "source": [
    "#save file\n",
    "df_events.to_csv('cleaned_events.csv', index=False)"
   ]
  },
  {
   "cell_type": "code",
   "execution_count": null,
   "id": "e8c57a30-9858-4734-ac6d-3e275bc6d20e",
   "metadata": {},
   "outputs": [],
   "source": []
  }
 ],
 "metadata": {
  "kernelspec": {
   "display_name": "Python 3 (ipykernel)",
   "language": "python",
   "name": "python3"
  },
  "language_info": {
   "codemirror_mode": {
    "name": "ipython",
    "version": 3
   },
   "file_extension": ".py",
   "mimetype": "text/x-python",
   "name": "python",
   "nbconvert_exporter": "python",
   "pygments_lexer": "ipython3",
   "version": "3.10.11"
  }
 },
 "nbformat": 4,
 "nbformat_minor": 5
}
