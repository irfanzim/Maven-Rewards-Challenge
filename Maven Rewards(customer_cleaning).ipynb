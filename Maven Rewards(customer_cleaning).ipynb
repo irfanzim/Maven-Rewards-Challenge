{
 "cells": [
  {
   "cell_type": "code",
   "execution_count": 1,
   "id": "f0e5b270-09bb-4c76-bea8-163e9c1b23d9",
   "metadata": {},
   "outputs": [],
   "source": [
    "#import necessary library\n",
    "import numpy as np # linear algebra\n",
    "import pandas as pd # data manipulation and analysis\n",
    "import matplotlib.pyplot as plt # data visualization\n",
    "import seaborn as sns # data visualization\n",
    "sns.set_style('whitegrid') # set style for visualization\n",
    "import warnings # ignore warnings\n",
    "warnings.filterwarnings('ignore')\n",
    "from initial_report import *\n",
    "\n",
    "plt.style.use(\"ggplot\")\n",
    "from matplotlib.pyplot import figure\n"
   ]
  },
  {
   "cell_type": "code",
   "execution_count": 2,
   "id": "d2c5fddb-6221-44c6-bc08-e74979c9dc4e",
   "metadata": {},
   "outputs": [],
   "source": [
    "#read csv file\n",
    "df_customer=pd.read_csv(\"customers.csv\")"
   ]
  },
  {
   "cell_type": "code",
   "execution_count": 3,
   "id": "ce64e4f2-eebf-4e28-bd59-6dc2885795cb",
   "metadata": {},
   "outputs": [
    {
     "data": {
      "text/html": [
       "<div>\n",
       "<style scoped>\n",
       "    .dataframe tbody tr th:only-of-type {\n",
       "        vertical-align: middle;\n",
       "    }\n",
       "\n",
       "    .dataframe tbody tr th {\n",
       "        vertical-align: top;\n",
       "    }\n",
       "\n",
       "    .dataframe thead th {\n",
       "        text-align: right;\n",
       "    }\n",
       "</style>\n",
       "<table border=\"1\" class=\"dataframe\">\n",
       "  <thead>\n",
       "    <tr style=\"text-align: right;\">\n",
       "      <th></th>\n",
       "      <th>customer_id</th>\n",
       "      <th>became_member_on</th>\n",
       "      <th>gender</th>\n",
       "      <th>age</th>\n",
       "      <th>income</th>\n",
       "    </tr>\n",
       "  </thead>\n",
       "  <tbody>\n",
       "    <tr>\n",
       "      <th>0</th>\n",
       "      <td>68be06ca386d4c31939f3a4f0e3dd783</td>\n",
       "      <td>20170212</td>\n",
       "      <td>NaN</td>\n",
       "      <td>118</td>\n",
       "      <td>NaN</td>\n",
       "    </tr>\n",
       "    <tr>\n",
       "      <th>1</th>\n",
       "      <td>0610b486422d4921ae7d2bf64640c50b</td>\n",
       "      <td>20170715</td>\n",
       "      <td>F</td>\n",
       "      <td>55</td>\n",
       "      <td>112000.0</td>\n",
       "    </tr>\n",
       "    <tr>\n",
       "      <th>2</th>\n",
       "      <td>38fe809add3b4fcf9315a9694bb96ff5</td>\n",
       "      <td>20180712</td>\n",
       "      <td>NaN</td>\n",
       "      <td>118</td>\n",
       "      <td>NaN</td>\n",
       "    </tr>\n",
       "    <tr>\n",
       "      <th>3</th>\n",
       "      <td>78afa995795e4d85b5d9ceeca43f5fef</td>\n",
       "      <td>20170509</td>\n",
       "      <td>F</td>\n",
       "      <td>75</td>\n",
       "      <td>100000.0</td>\n",
       "    </tr>\n",
       "    <tr>\n",
       "      <th>4</th>\n",
       "      <td>a03223e636434f42ac4c3df47e8bac43</td>\n",
       "      <td>20170804</td>\n",
       "      <td>NaN</td>\n",
       "      <td>118</td>\n",
       "      <td>NaN</td>\n",
       "    </tr>\n",
       "  </tbody>\n",
       "</table>\n",
       "</div>"
      ],
      "text/plain": [
       "                        customer_id  became_member_on gender  age    income\n",
       "0  68be06ca386d4c31939f3a4f0e3dd783          20170212    NaN  118       NaN\n",
       "1  0610b486422d4921ae7d2bf64640c50b          20170715      F   55  112000.0\n",
       "2  38fe809add3b4fcf9315a9694bb96ff5          20180712    NaN  118       NaN\n",
       "3  78afa995795e4d85b5d9ceeca43f5fef          20170509      F   75  100000.0\n",
       "4  a03223e636434f42ac4c3df47e8bac43          20170804    NaN  118       NaN"
      ]
     },
     "execution_count": 3,
     "metadata": {},
     "output_type": "execute_result"
    }
   ],
   "source": [
    "#read sample data\n",
    "df_customer.head(5)"
   ]
  },
  {
   "cell_type": "markdown",
   "id": "c2605b3d-1bb3-4ef5-8546-4562c331f6a7",
   "metadata": {},
   "source": [
    "1. gender and income has null value\n",
    "2. date column is not in proper data type"
   ]
  },
  {
   "cell_type": "code",
   "execution_count": 4,
   "id": "f005aa15-83a8-4635-8d9e-24078b4ece9d",
   "metadata": {},
   "outputs": [
    {
     "name": "stdout",
     "output_type": "stream",
     "text": [
      " *** DATA CLEANING CHECKLIST ***\n",
      "----------------------------------------\n",
      "*** Structure:\n",
      "- Total Rows: 17000\n",
      "- Total Columns: 5\n",
      "- Column Names: ['customer_id', 'became_member_on', 'gender', 'age', 'income']\n",
      "\n",
      "📌 Data Types:\n",
      "  customer_id: object\n",
      "  became_member_on: int64\n",
      "  gender: object\n",
      "  age: int64\n",
      "  income: float64\n",
      "\n",
      "🧬 Mixed Data Types:\n",
      "  gender:\n",
      "    - str: 14825\n",
      "    - float: 2175\n",
      "\n",
      "*** Distinct Values per Column:\n",
      "  customer_id: 17000\n",
      "  became_member_on: 1716\n",
      "  gender: 3\n",
      "  age: 85\n",
      "  income: 91\n",
      "\n",
      "*** Null Values and Percentages:\n",
      "  gender: Missing Values: 2175, Pct: 12.794%\n",
      "  income: Missing Values: 2175, Pct: 12.794%\n",
      "\n",
      "\n",
      "*** Duplicates: 0\n",
      "\n",
      "*** Negative or Zero Values:\n",
      "\n",
      "*** Basic Statistics:\n",
      "       became_member_on           age         income\n",
      "count      1.700000e+04  17000.000000   14825.000000\n",
      "mean       2.016703e+07     62.531412   65404.991568\n",
      "std        1.167750e+04     26.738580   21598.299410\n",
      "min        2.013073e+07     18.000000   30000.000000\n",
      "25%        2.016053e+07     45.000000   49000.000000\n",
      "50%        2.017080e+07     58.000000   64000.000000\n",
      "75%        2.017123e+07     73.000000   80000.000000\n",
      "max        2.018073e+07    118.000000  120000.000000\n",
      "\n",
      "*** Category Description:\n",
      "                             customer_id gender\n",
      "count                              17000  14825\n",
      "unique                             17000      3\n",
      "top     e4052622e5ba45a8b96b59aba68cf068      M\n",
      "freq                                   1   8484\n",
      "\n",
      "*** Outliers (IQR method):\n",
      "  became_member_on: 977 outliers\n",
      "    Lower Bound: 20144470.00\n",
      "    Upper Bound: 20187286.00\n",
      "  age: 2175 outliers\n",
      "    Lower Bound: 3.00\n",
      "    Upper Bound: 115.00\n",
      "  income: No outliers\n",
      "    Lower Bound: 2500.00\n",
      "    Upper Bound: 126500.00\n",
      "----------------------------------------\n"
     ]
    }
   ],
   "source": [
    "#check initial report\n",
    "initial_report(df_customer)"
   ]
  },
  {
   "cell_type": "markdown",
   "id": "d41ff658-bd6a-470d-9666-19244a28a3c7",
   "metadata": {},
   "source": [
    "1. gender column has mixed data type\n",
    "2. null values: gender [2175, 12.794%], income [ 2175, 12.794%]\n",
    "3. age column has outlier"
   ]
  },
  {
   "cell_type": "code",
   "execution_count": 5,
   "id": "f1d4466b-0e3c-4ed1-965a-bba788094c55",
   "metadata": {},
   "outputs": [
    {
     "data": {
      "text/plain": [
       "[nan, 'F', 'M', 'O']"
      ]
     },
     "execution_count": 5,
     "metadata": {},
     "output_type": "execute_result"
    }
   ],
   "source": [
    "#unique list from gender columns\n",
    "list(df_customer.gender.unique())"
   ]
  },
  {
   "cell_type": "code",
   "execution_count": 6,
   "id": "2b6f1893-685b-474a-bbd6-976aec964f35",
   "metadata": {},
   "outputs": [
    {
     "data": {
      "text/plain": [
       "gender\n",
       "M    8484\n",
       "F    6129\n",
       "O     212\n",
       "Name: count, dtype: int64"
      ]
     },
     "execution_count": 6,
     "metadata": {},
     "output_type": "execute_result"
    }
   ],
   "source": [
    "#value counts from gender columns\n",
    "df_customer.gender.value_counts()"
   ]
  },
  {
   "cell_type": "code",
   "execution_count": 7,
   "id": "9a2281e2-85c9-459d-8f91-b394fb1dcd14",
   "metadata": {},
   "outputs": [],
   "source": [
    "#became_member_on date column fixing\n",
    "df_customer['became_member_on'] = pd.to_datetime(df_customer['became_member_on'], format='%Y%m%d')"
   ]
  },
  {
   "cell_type": "code",
   "execution_count": 8,
   "id": "44bc2641-3f04-4a85-a0b0-51068549c8bd",
   "metadata": {},
   "outputs": [
    {
     "data": {
      "text/html": [
       "<div>\n",
       "<style scoped>\n",
       "    .dataframe tbody tr th:only-of-type {\n",
       "        vertical-align: middle;\n",
       "    }\n",
       "\n",
       "    .dataframe tbody tr th {\n",
       "        vertical-align: top;\n",
       "    }\n",
       "\n",
       "    .dataframe thead th {\n",
       "        text-align: right;\n",
       "    }\n",
       "</style>\n",
       "<table border=\"1\" class=\"dataframe\">\n",
       "  <thead>\n",
       "    <tr style=\"text-align: right;\">\n",
       "      <th></th>\n",
       "      <th>customer_id</th>\n",
       "      <th>became_member_on</th>\n",
       "      <th>gender</th>\n",
       "      <th>age</th>\n",
       "      <th>income</th>\n",
       "    </tr>\n",
       "  </thead>\n",
       "  <tbody>\n",
       "    <tr>\n",
       "      <th>12020</th>\n",
       "      <td>79b174cbc5004c84a5ade3eab1aa409a</td>\n",
       "      <td>2015-08-16</td>\n",
       "      <td>M</td>\n",
       "      <td>41</td>\n",
       "      <td>60000.0</td>\n",
       "    </tr>\n",
       "    <tr>\n",
       "      <th>7916</th>\n",
       "      <td>92105bd31e38472ab74fbb1345e0ad7b</td>\n",
       "      <td>2017-09-28</td>\n",
       "      <td>M</td>\n",
       "      <td>45</td>\n",
       "      <td>92000.0</td>\n",
       "    </tr>\n",
       "    <tr>\n",
       "      <th>15180</th>\n",
       "      <td>86b8f92aa604408994acf65809e10f7f</td>\n",
       "      <td>2017-02-21</td>\n",
       "      <td>NaN</td>\n",
       "      <td>118</td>\n",
       "      <td>NaN</td>\n",
       "    </tr>\n",
       "    <tr>\n",
       "      <th>7673</th>\n",
       "      <td>adcbfd37ea65430d852cb783808d05da</td>\n",
       "      <td>2017-08-21</td>\n",
       "      <td>M</td>\n",
       "      <td>56</td>\n",
       "      <td>46000.0</td>\n",
       "    </tr>\n",
       "    <tr>\n",
       "      <th>2188</th>\n",
       "      <td>9885e229fb8541afb0fb5d4d25eef01f</td>\n",
       "      <td>2017-12-12</td>\n",
       "      <td>M</td>\n",
       "      <td>43</td>\n",
       "      <td>75000.0</td>\n",
       "    </tr>\n",
       "  </tbody>\n",
       "</table>\n",
       "</div>"
      ],
      "text/plain": [
       "                            customer_id became_member_on gender  age   income\n",
       "12020  79b174cbc5004c84a5ade3eab1aa409a       2015-08-16      M   41  60000.0\n",
       "7916   92105bd31e38472ab74fbb1345e0ad7b       2017-09-28      M   45  92000.0\n",
       "15180  86b8f92aa604408994acf65809e10f7f       2017-02-21    NaN  118      NaN\n",
       "7673   adcbfd37ea65430d852cb783808d05da       2017-08-21      M   56  46000.0\n",
       "2188   9885e229fb8541afb0fb5d4d25eef01f       2017-12-12      M   43  75000.0"
      ]
     },
     "execution_count": 8,
     "metadata": {},
     "output_type": "execute_result"
    }
   ],
   "source": [
    "#check sample\n",
    "df_customer.sample(5)"
   ]
  },
  {
   "cell_type": "code",
   "execution_count": 9,
   "id": "d93f9c85-1e19-44c4-b80a-ae7c65695688",
   "metadata": {},
   "outputs": [
    {
     "name": "stdout",
     "output_type": "stream",
     "text": [
      "<class 'pandas.core.frame.DataFrame'>\n",
      "RangeIndex: 17000 entries, 0 to 16999\n",
      "Data columns (total 5 columns):\n",
      " #   Column            Non-Null Count  Dtype         \n",
      "---  ------            --------------  -----         \n",
      " 0   customer_id       17000 non-null  object        \n",
      " 1   became_member_on  17000 non-null  datetime64[ns]\n",
      " 2   gender            14825 non-null  object        \n",
      " 3   age               17000 non-null  int64         \n",
      " 4   income            14825 non-null  float64       \n",
      "dtypes: datetime64[ns](1), float64(1), int64(1), object(2)\n",
      "memory usage: 664.2+ KB\n"
     ]
    }
   ],
   "source": [
    "#check info\n",
    "df_customer.info()"
   ]
  },
  {
   "cell_type": "code",
   "execution_count": 10,
   "id": "2c4e115e-741d-4865-ae32-1efb70dda1fd",
   "metadata": {},
   "outputs": [
    {
     "name": "stdout",
     "output_type": "stream",
     "text": [
      "                            customer_id became_member_on gender  age  income\n",
      "0      68be06ca386d4c31939f3a4f0e3dd783       2017-02-12    NaN  118     NaN\n",
      "2      38fe809add3b4fcf9315a9694bb96ff5       2018-07-12    NaN  118     NaN\n",
      "4      a03223e636434f42ac4c3df47e8bac43       2017-08-04    NaN  118     NaN\n",
      "6      8ec6ce2a7e7949b1bf142def7d0e0586       2017-09-25    NaN  118     NaN\n",
      "7      68617ca6246f4fbc85e91a2a49552598       2017-10-02    NaN  118     NaN\n",
      "...                                 ...              ...    ...  ...     ...\n",
      "16980  5c686d09ca4d475a8f750f2ba07e0440       2016-09-01    NaN  118     NaN\n",
      "16982  d9ca82f550ac4ee58b6299cf1e5c824a       2016-04-15    NaN  118     NaN\n",
      "16989  ca45ee1883624304bac1e4c8a114f045       2018-03-05    NaN  118     NaN\n",
      "16991  a9a20fa8b5504360beb4e7c8712f8306       2016-01-16    NaN  118     NaN\n",
      "16994  c02b10e8752c4d8e9b73f918558531f7       2015-12-11    NaN  118     NaN\n",
      "\n",
      "[2175 rows x 5 columns]\n"
     ]
    }
   ],
   "source": [
    "# Filter rows where gender is of float type\n",
    "float_gender_rows = df_customer[df_customer['gender'].apply(lambda x: isinstance(x, float))]\n",
    "\n",
    "# Display the result\n",
    "print(float_gender_rows)"
   ]
  },
  {
   "cell_type": "markdown",
   "id": "36eb8cd0-d34c-459a-bccb-9dc2eab685dc",
   "metadata": {},
   "source": [
    "1. float type showing null values"
   ]
  },
  {
   "cell_type": "code",
   "execution_count": 11,
   "id": "d37e6d55-d849-4a5f-893e-5c64cc689885",
   "metadata": {},
   "outputs": [
    {
     "data": {
      "text/html": [
       "<div>\n",
       "<style scoped>\n",
       "    .dataframe tbody tr th:only-of-type {\n",
       "        vertical-align: middle;\n",
       "    }\n",
       "\n",
       "    .dataframe tbody tr th {\n",
       "        vertical-align: top;\n",
       "    }\n",
       "\n",
       "    .dataframe thead th {\n",
       "        text-align: right;\n",
       "    }\n",
       "</style>\n",
       "<table border=\"1\" class=\"dataframe\">\n",
       "  <thead>\n",
       "    <tr style=\"text-align: right;\">\n",
       "      <th></th>\n",
       "      <th>customer_id</th>\n",
       "      <th>became_member_on</th>\n",
       "      <th>gender</th>\n",
       "      <th>age</th>\n",
       "      <th>income</th>\n",
       "    </tr>\n",
       "  </thead>\n",
       "  <tbody>\n",
       "    <tr>\n",
       "      <th>0</th>\n",
       "      <td>68be06ca386d4c31939f3a4f0e3dd783</td>\n",
       "      <td>2017-02-12</td>\n",
       "      <td>NaN</td>\n",
       "      <td>118</td>\n",
       "      <td>NaN</td>\n",
       "    </tr>\n",
       "    <tr>\n",
       "      <th>2</th>\n",
       "      <td>38fe809add3b4fcf9315a9694bb96ff5</td>\n",
       "      <td>2018-07-12</td>\n",
       "      <td>NaN</td>\n",
       "      <td>118</td>\n",
       "      <td>NaN</td>\n",
       "    </tr>\n",
       "    <tr>\n",
       "      <th>4</th>\n",
       "      <td>a03223e636434f42ac4c3df47e8bac43</td>\n",
       "      <td>2017-08-04</td>\n",
       "      <td>NaN</td>\n",
       "      <td>118</td>\n",
       "      <td>NaN</td>\n",
       "    </tr>\n",
       "    <tr>\n",
       "      <th>6</th>\n",
       "      <td>8ec6ce2a7e7949b1bf142def7d0e0586</td>\n",
       "      <td>2017-09-25</td>\n",
       "      <td>NaN</td>\n",
       "      <td>118</td>\n",
       "      <td>NaN</td>\n",
       "    </tr>\n",
       "    <tr>\n",
       "      <th>7</th>\n",
       "      <td>68617ca6246f4fbc85e91a2a49552598</td>\n",
       "      <td>2017-10-02</td>\n",
       "      <td>NaN</td>\n",
       "      <td>118</td>\n",
       "      <td>NaN</td>\n",
       "    </tr>\n",
       "    <tr>\n",
       "      <th>...</th>\n",
       "      <td>...</td>\n",
       "      <td>...</td>\n",
       "      <td>...</td>\n",
       "      <td>...</td>\n",
       "      <td>...</td>\n",
       "    </tr>\n",
       "    <tr>\n",
       "      <th>16980</th>\n",
       "      <td>5c686d09ca4d475a8f750f2ba07e0440</td>\n",
       "      <td>2016-09-01</td>\n",
       "      <td>NaN</td>\n",
       "      <td>118</td>\n",
       "      <td>NaN</td>\n",
       "    </tr>\n",
       "    <tr>\n",
       "      <th>16982</th>\n",
       "      <td>d9ca82f550ac4ee58b6299cf1e5c824a</td>\n",
       "      <td>2016-04-15</td>\n",
       "      <td>NaN</td>\n",
       "      <td>118</td>\n",
       "      <td>NaN</td>\n",
       "    </tr>\n",
       "    <tr>\n",
       "      <th>16989</th>\n",
       "      <td>ca45ee1883624304bac1e4c8a114f045</td>\n",
       "      <td>2018-03-05</td>\n",
       "      <td>NaN</td>\n",
       "      <td>118</td>\n",
       "      <td>NaN</td>\n",
       "    </tr>\n",
       "    <tr>\n",
       "      <th>16991</th>\n",
       "      <td>a9a20fa8b5504360beb4e7c8712f8306</td>\n",
       "      <td>2016-01-16</td>\n",
       "      <td>NaN</td>\n",
       "      <td>118</td>\n",
       "      <td>NaN</td>\n",
       "    </tr>\n",
       "    <tr>\n",
       "      <th>16994</th>\n",
       "      <td>c02b10e8752c4d8e9b73f918558531f7</td>\n",
       "      <td>2015-12-11</td>\n",
       "      <td>NaN</td>\n",
       "      <td>118</td>\n",
       "      <td>NaN</td>\n",
       "    </tr>\n",
       "  </tbody>\n",
       "</table>\n",
       "<p>2175 rows × 5 columns</p>\n",
       "</div>"
      ],
      "text/plain": [
       "                            customer_id became_member_on gender  age  income\n",
       "0      68be06ca386d4c31939f3a4f0e3dd783       2017-02-12    NaN  118     NaN\n",
       "2      38fe809add3b4fcf9315a9694bb96ff5       2018-07-12    NaN  118     NaN\n",
       "4      a03223e636434f42ac4c3df47e8bac43       2017-08-04    NaN  118     NaN\n",
       "6      8ec6ce2a7e7949b1bf142def7d0e0586       2017-09-25    NaN  118     NaN\n",
       "7      68617ca6246f4fbc85e91a2a49552598       2017-10-02    NaN  118     NaN\n",
       "...                                 ...              ...    ...  ...     ...\n",
       "16980  5c686d09ca4d475a8f750f2ba07e0440       2016-09-01    NaN  118     NaN\n",
       "16982  d9ca82f550ac4ee58b6299cf1e5c824a       2016-04-15    NaN  118     NaN\n",
       "16989  ca45ee1883624304bac1e4c8a114f045       2018-03-05    NaN  118     NaN\n",
       "16991  a9a20fa8b5504360beb4e7c8712f8306       2016-01-16    NaN  118     NaN\n",
       "16994  c02b10e8752c4d8e9b73f918558531f7       2015-12-11    NaN  118     NaN\n",
       "\n",
       "[2175 rows x 5 columns]"
      ]
     },
     "execution_count": 11,
     "metadata": {},
     "output_type": "execute_result"
    }
   ],
   "source": [
    "# Investigate Rows with Missing Values if there is any pattern\n",
    "df_customer[df_customer['gender'].isnull()]"
   ]
  },
  {
   "cell_type": "markdown",
   "id": "08166f1d-224d-4797-8593-d649c020ca6e",
   "metadata": {},
   "source": [
    "1. where gender in NaN, age is 118, income is also NaN, verify again"
   ]
  },
  {
   "cell_type": "code",
   "execution_count": 12,
   "id": "4f1fefd3-1ed5-4edf-8f0b-cfe5607c09c5",
   "metadata": {},
   "outputs": [
    {
     "data": {
      "text/html": [
       "<div>\n",
       "<style scoped>\n",
       "    .dataframe tbody tr th:only-of-type {\n",
       "        vertical-align: middle;\n",
       "    }\n",
       "\n",
       "    .dataframe tbody tr th {\n",
       "        vertical-align: top;\n",
       "    }\n",
       "\n",
       "    .dataframe thead th {\n",
       "        text-align: right;\n",
       "    }\n",
       "</style>\n",
       "<table border=\"1\" class=\"dataframe\">\n",
       "  <thead>\n",
       "    <tr style=\"text-align: right;\">\n",
       "      <th></th>\n",
       "      <th>age</th>\n",
       "      <th>income</th>\n",
       "    </tr>\n",
       "  </thead>\n",
       "  <tbody>\n",
       "    <tr>\n",
       "      <th>count</th>\n",
       "      <td>2175.0</td>\n",
       "      <td>0.0</td>\n",
       "    </tr>\n",
       "    <tr>\n",
       "      <th>mean</th>\n",
       "      <td>118.0</td>\n",
       "      <td>NaN</td>\n",
       "    </tr>\n",
       "    <tr>\n",
       "      <th>std</th>\n",
       "      <td>0.0</td>\n",
       "      <td>NaN</td>\n",
       "    </tr>\n",
       "    <tr>\n",
       "      <th>min</th>\n",
       "      <td>118.0</td>\n",
       "      <td>NaN</td>\n",
       "    </tr>\n",
       "    <tr>\n",
       "      <th>25%</th>\n",
       "      <td>118.0</td>\n",
       "      <td>NaN</td>\n",
       "    </tr>\n",
       "    <tr>\n",
       "      <th>50%</th>\n",
       "      <td>118.0</td>\n",
       "      <td>NaN</td>\n",
       "    </tr>\n",
       "    <tr>\n",
       "      <th>75%</th>\n",
       "      <td>118.0</td>\n",
       "      <td>NaN</td>\n",
       "    </tr>\n",
       "    <tr>\n",
       "      <th>max</th>\n",
       "      <td>118.0</td>\n",
       "      <td>NaN</td>\n",
       "    </tr>\n",
       "  </tbody>\n",
       "</table>\n",
       "</div>"
      ],
      "text/plain": [
       "          age  income\n",
       "count  2175.0     0.0\n",
       "mean    118.0     NaN\n",
       "std       0.0     NaN\n",
       "min     118.0     NaN\n",
       "25%     118.0     NaN\n",
       "50%     118.0     NaN\n",
       "75%     118.0     NaN\n",
       "max     118.0     NaN"
      ]
     },
     "execution_count": 12,
     "metadata": {},
     "output_type": "execute_result"
    }
   ],
   "source": [
    "# summary statistics for rows where the gender value is missing (NaN).\n",
    "df_customer[df_customer['gender'].isnull()][['age', 'income']].describe()"
   ]
  },
  {
   "cell_type": "markdown",
   "id": "f7754867-c9bf-4277-8a86-f3b76254f3a8",
   "metadata": {},
   "source": [
    "1. age is always showing 118. So we can delete these rows"
   ]
  },
  {
   "cell_type": "code",
   "execution_count": 13,
   "id": "d54d1769-8054-402e-85f2-f5f69c9bdb18",
   "metadata": {},
   "outputs": [],
   "source": [
    "#drop missing values\n",
    "df_customer.dropna(subset=['gender'], inplace=True)"
   ]
  },
  {
   "cell_type": "code",
   "execution_count": 14,
   "id": "ae7f7222-4bfe-4591-a671-0306f9d5f053",
   "metadata": {},
   "outputs": [
    {
     "name": "stdout",
     "output_type": "stream",
     "text": [
      " *** DATA CLEANING CHECKLIST ***\n",
      "----------------------------------------\n",
      "*** Structure:\n",
      "- Total Rows: 14825\n",
      "- Total Columns: 5\n",
      "- Column Names: ['customer_id', 'became_member_on', 'gender', 'age', 'income']\n",
      "\n",
      "📌 Data Types:\n",
      "  customer_id: object\n",
      "  became_member_on: datetime64[ns]\n",
      "  gender: object\n",
      "  age: int64\n",
      "  income: float64\n",
      "\n",
      "🧬 Mixed Data Types:\n",
      "\n",
      "*** Distinct Values per Column:\n",
      "  customer_id: 14825\n",
      "  became_member_on: 1707\n",
      "  gender: 3\n",
      "  age: 84\n",
      "  income: 91\n",
      "\n",
      "*** Null Values and Percentages:\n",
      "\n",
      "\n",
      "*** Duplicates: 0\n",
      "\n",
      "*** Negative or Zero Values:\n",
      "\n",
      "*** Basic Statistics:\n",
      "                    became_member_on           age         income\n",
      "count                          14825  14825.000000   14825.000000\n",
      "mean   2017-02-18 12:30:15.419898880     54.393524   65404.991568\n",
      "min              2013-07-29 00:00:00     18.000000   30000.000000\n",
      "25%              2016-05-20 00:00:00     42.000000   49000.000000\n",
      "50%              2017-08-02 00:00:00     55.000000   64000.000000\n",
      "75%              2017-12-30 00:00:00     66.000000   80000.000000\n",
      "max              2018-07-26 00:00:00    101.000000  120000.000000\n",
      "std                              NaN     17.383705   21598.299410\n",
      "\n",
      "*** Category Description:\n",
      "                             customer_id gender\n",
      "count                              14825  14825\n",
      "unique                             14825      3\n",
      "top     e4052622e5ba45a8b96b59aba68cf068      M\n",
      "freq                                   1   8484\n",
      "\n",
      "*** Outliers (IQR method):\n",
      "  age: No outliers\n",
      "    Lower Bound: 6.00\n",
      "    Upper Bound: 102.00\n",
      "  income: No outliers\n",
      "    Lower Bound: 2500.00\n",
      "    Upper Bound: 126500.00\n",
      "----------------------------------------\n"
     ]
    }
   ],
   "source": [
    "#check initial report now\n",
    "initial_report(df_customer)"
   ]
  },
  {
   "cell_type": "code",
   "execution_count": 15,
   "id": "77edf39f-26df-4df4-bce2-7d8315dd590e",
   "metadata": {},
   "outputs": [],
   "source": [
    "#save cleaned files\n",
    "df_customer.to_csv('cleaned_custoer_data.csv', index=False)"
   ]
  }
 ],
 "metadata": {
  "kernelspec": {
   "display_name": "Python 3 (ipykernel)",
   "language": "python",
   "name": "python3"
  },
  "language_info": {
   "codemirror_mode": {
    "name": "ipython",
    "version": 3
   },
   "file_extension": ".py",
   "mimetype": "text/x-python",
   "name": "python",
   "nbconvert_exporter": "python",
   "pygments_lexer": "ipython3",
   "version": "3.10.11"
  }
 },
 "nbformat": 4,
 "nbformat_minor": 5
}
