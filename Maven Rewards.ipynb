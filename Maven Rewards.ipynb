{
 "cells": [
  {
   "cell_type": "code",
   "execution_count": 1,
   "id": "f0e5b270-09bb-4c76-bea8-163e9c1b23d9",
   "metadata": {},
   "outputs": [],
   "source": [
    "#import necessary library\n",
    "import numpy as np # linear algebra\n",
    "import pandas as pd # data manipulation and analysis\n",
    "import matplotlib.pyplot as plt # data visualization\n",
    "import seaborn as sns # data visualization\n",
    "sns.set_style('whitegrid') # set style for visualization\n",
    "import warnings # ignore warnings\n",
    "warnings.filterwarnings('ignore')\n",
    "\n",
    "plt.style.use(\"ggplot\")\n",
    "from matplotlib.pyplot import figure\n"
   ]
  },
  {
   "cell_type": "code",
   "execution_count": 2,
   "id": "c4c81169-e74b-437d-b694-8fe3a7b165fc",
   "metadata": {},
   "outputs": [],
   "source": [
    "#import dataset\n",
    "df_customer=pd.read_csv(\"customers.csv\")"
   ]
  },
  {
   "cell_type": "code",
   "execution_count": 3,
   "id": "2d90f5a9-cfb3-4f64-b3a3-7a882ff3f587",
   "metadata": {},
   "outputs": [
    {
     "data": {
      "text/html": [
       "<div>\n",
       "<style scoped>\n",
       "    .dataframe tbody tr th:only-of-type {\n",
       "        vertical-align: middle;\n",
       "    }\n",
       "\n",
       "    .dataframe tbody tr th {\n",
       "        vertical-align: top;\n",
       "    }\n",
       "\n",
       "    .dataframe thead th {\n",
       "        text-align: right;\n",
       "    }\n",
       "</style>\n",
       "<table border=\"1\" class=\"dataframe\">\n",
       "  <thead>\n",
       "    <tr style=\"text-align: right;\">\n",
       "      <th></th>\n",
       "      <th>customer_id</th>\n",
       "      <th>became_member_on</th>\n",
       "      <th>gender</th>\n",
       "      <th>age</th>\n",
       "      <th>income</th>\n",
       "    </tr>\n",
       "  </thead>\n",
       "  <tbody>\n",
       "    <tr>\n",
       "      <th>9966</th>\n",
       "      <td>7d680b5335db412f82434247a682b727</td>\n",
       "      <td>20151202</td>\n",
       "      <td>NaN</td>\n",
       "      <td>118</td>\n",
       "      <td>NaN</td>\n",
       "    </tr>\n",
       "    <tr>\n",
       "      <th>10708</th>\n",
       "      <td>ab5c5c105a1f42bcbee68e2fb2feaffe</td>\n",
       "      <td>20161206</td>\n",
       "      <td>F</td>\n",
       "      <td>92</td>\n",
       "      <td>75000.0</td>\n",
       "    </tr>\n",
       "    <tr>\n",
       "      <th>2885</th>\n",
       "      <td>c34d166e5c634b3eb6fd40547d930c18</td>\n",
       "      <td>20150815</td>\n",
       "      <td>M</td>\n",
       "      <td>20</td>\n",
       "      <td>61000.0</td>\n",
       "    </tr>\n",
       "    <tr>\n",
       "      <th>8329</th>\n",
       "      <td>3da3248fc0c2453fbc0246e3df717cf2</td>\n",
       "      <td>20161123</td>\n",
       "      <td>M</td>\n",
       "      <td>21</td>\n",
       "      <td>62000.0</td>\n",
       "    </tr>\n",
       "    <tr>\n",
       "      <th>16048</th>\n",
       "      <td>b4d50689af024749a235c6ee77db75a6</td>\n",
       "      <td>20171106</td>\n",
       "      <td>NaN</td>\n",
       "      <td>118</td>\n",
       "      <td>NaN</td>\n",
       "    </tr>\n",
       "  </tbody>\n",
       "</table>\n",
       "</div>"
      ],
      "text/plain": [
       "                            customer_id  became_member_on gender  age   income\n",
       "9966   7d680b5335db412f82434247a682b727          20151202    NaN  118      NaN\n",
       "10708  ab5c5c105a1f42bcbee68e2fb2feaffe          20161206      F   92  75000.0\n",
       "2885   c34d166e5c634b3eb6fd40547d930c18          20150815      M   20  61000.0\n",
       "8329   3da3248fc0c2453fbc0246e3df717cf2          20161123      M   21  62000.0\n",
       "16048  b4d50689af024749a235c6ee77db75a6          20171106    NaN  118      NaN"
      ]
     },
     "execution_count": 3,
     "metadata": {},
     "output_type": "execute_result"
    }
   ],
   "source": [
    "#randomly get 5 rows\n",
    "df_customer.sample(5)"
   ]
  },
  {
   "cell_type": "code",
   "execution_count": 4,
   "id": "e4cc3194-5d25-4e48-97f6-927d3d1033f3",
   "metadata": {},
   "outputs": [
    {
     "name": "stdout",
     "output_type": "stream",
     "text": [
      "<class 'pandas.core.frame.DataFrame'>\n",
      "RangeIndex: 17000 entries, 0 to 16999\n",
      "Data columns (total 5 columns):\n",
      " #   Column            Non-Null Count  Dtype  \n",
      "---  ------            --------------  -----  \n",
      " 0   customer_id       17000 non-null  object \n",
      " 1   became_member_on  17000 non-null  int64  \n",
      " 2   gender            14825 non-null  object \n",
      " 3   age               17000 non-null  int64  \n",
      " 4   income            14825 non-null  float64\n",
      "dtypes: float64(1), int64(2), object(2)\n",
      "memory usage: 664.2+ KB\n"
     ]
    }
   ],
   "source": [
    "#overall information about dataframe\n",
    "df_customer.info()"
   ]
  },
  {
   "cell_type": "markdown",
   "id": "8f60053f-fa67-4721-8f5f-2fd4ace331b9",
   "metadata": {},
   "source": [
    "1. Total Column 5, rows 17000\n",
    "2. gender and income has null values\n",
    "3. became_member_on column dtype is int, it should be date"
   ]
  },
  {
   "cell_type": "code",
   "execution_count": 5,
   "id": "052a6ed0-a056-40d6-a6b6-1eaac648e82e",
   "metadata": {},
   "outputs": [
    {
     "name": "stdout",
     "output_type": "stream",
     "text": [
      "customer_id            0\n",
      "became_member_on       0\n",
      "gender              2175\n",
      "age                    0\n",
      "income              2175\n",
      "dtype: int64\n"
     ]
    }
   ],
   "source": [
    "# check sum of missing values in each column\n",
    "customer_missing_values = df_customer.isnull().sum()\n",
    "print(customer_missing_values)"
   ]
  },
  {
   "cell_type": "code",
   "execution_count": 6,
   "id": "c1a37b07-5324-4ba1-92e2-b1ccd143717b",
   "metadata": {},
   "outputs": [
    {
     "name": "stdout",
     "output_type": "stream",
     "text": [
      "customer_id - 0.0%\n",
      "became_member_on - 0.0%\n",
      "gender - 0.128%\n",
      "age - 0.0%\n",
      "income - 0.128%\n"
     ]
    }
   ],
   "source": [
    "# Check the percentage of missing data in columns\n",
    "for col in df_customer.columns:\n",
    "    pct_missing=np.mean(df_customer[col].isnull())\n",
    "    print(\"{} - {}%\".format(col, round(pct_missing,3)))"
   ]
  },
  {
   "cell_type": "code",
   "execution_count": 7,
   "id": "2dc97330-8ae9-439d-8ec6-bb1f18eb5e81",
   "metadata": {},
   "outputs": [
    {
     "data": {
      "text/plain": [
       "np.int64(0)"
      ]
     },
     "execution_count": 7,
     "metadata": {},
     "output_type": "execute_result"
    }
   ],
   "source": [
    "#check total number of duplicated rows\n",
    "df_customer.duplicated().sum() "
   ]
  },
  {
   "cell_type": "code",
   "execution_count": 8,
   "id": "f6e57365-b7e6-4ceb-9c41-b52488644ac5",
   "metadata": {},
   "outputs": [
    {
     "name": "stdout",
     "output_type": "stream",
     "text": [
      "Column 'customer_id' has 0 duplicate(s).\n",
      "Column 'became_member_on' has 15284 duplicate(s).\n",
      "Column 'gender' has 16996 duplicate(s).\n",
      "Column 'age' has 16915 duplicate(s).\n",
      "Column 'income' has 16908 duplicate(s).\n"
     ]
    }
   ],
   "source": [
    "for col in df_customer:\n",
    "    duplicate_count = df_customer[col].duplicated().sum()\n",
    "    print(f\"Column '{col}' has {duplicate_count} duplicate(s).\")"
   ]
  },
  {
   "cell_type": "code",
   "execution_count": 9,
   "id": "738346f5-758c-4a79-b5c7-3515fdaf5fec",
   "metadata": {},
   "outputs": [
    {
     "data": {
      "text/html": [
       "<div>\n",
       "<style scoped>\n",
       "    .dataframe tbody tr th:only-of-type {\n",
       "        vertical-align: middle;\n",
       "    }\n",
       "\n",
       "    .dataframe tbody tr th {\n",
       "        vertical-align: top;\n",
       "    }\n",
       "\n",
       "    .dataframe thead th {\n",
       "        text-align: right;\n",
       "    }\n",
       "</style>\n",
       "<table border=\"1\" class=\"dataframe\">\n",
       "  <thead>\n",
       "    <tr style=\"text-align: right;\">\n",
       "      <th></th>\n",
       "      <th>became_member_on</th>\n",
       "      <th>age</th>\n",
       "      <th>income</th>\n",
       "    </tr>\n",
       "  </thead>\n",
       "  <tbody>\n",
       "    <tr>\n",
       "      <th>count</th>\n",
       "      <td>1.700000e+04</td>\n",
       "      <td>17000.000000</td>\n",
       "      <td>14825.000000</td>\n",
       "    </tr>\n",
       "    <tr>\n",
       "      <th>mean</th>\n",
       "      <td>2.016703e+07</td>\n",
       "      <td>62.531412</td>\n",
       "      <td>65404.991568</td>\n",
       "    </tr>\n",
       "    <tr>\n",
       "      <th>std</th>\n",
       "      <td>1.167750e+04</td>\n",
       "      <td>26.738580</td>\n",
       "      <td>21598.299410</td>\n",
       "    </tr>\n",
       "    <tr>\n",
       "      <th>min</th>\n",
       "      <td>2.013073e+07</td>\n",
       "      <td>18.000000</td>\n",
       "      <td>30000.000000</td>\n",
       "    </tr>\n",
       "    <tr>\n",
       "      <th>25%</th>\n",
       "      <td>2.016053e+07</td>\n",
       "      <td>45.000000</td>\n",
       "      <td>49000.000000</td>\n",
       "    </tr>\n",
       "    <tr>\n",
       "      <th>50%</th>\n",
       "      <td>2.017080e+07</td>\n",
       "      <td>58.000000</td>\n",
       "      <td>64000.000000</td>\n",
       "    </tr>\n",
       "    <tr>\n",
       "      <th>75%</th>\n",
       "      <td>2.017123e+07</td>\n",
       "      <td>73.000000</td>\n",
       "      <td>80000.000000</td>\n",
       "    </tr>\n",
       "    <tr>\n",
       "      <th>max</th>\n",
       "      <td>2.018073e+07</td>\n",
       "      <td>118.000000</td>\n",
       "      <td>120000.000000</td>\n",
       "    </tr>\n",
       "  </tbody>\n",
       "</table>\n",
       "</div>"
      ],
      "text/plain": [
       "       became_member_on           age         income\n",
       "count      1.700000e+04  17000.000000   14825.000000\n",
       "mean       2.016703e+07     62.531412   65404.991568\n",
       "std        1.167750e+04     26.738580   21598.299410\n",
       "min        2.013073e+07     18.000000   30000.000000\n",
       "25%        2.016053e+07     45.000000   49000.000000\n",
       "50%        2.017080e+07     58.000000   64000.000000\n",
       "75%        2.017123e+07     73.000000   80000.000000\n",
       "max        2.018073e+07    118.000000  120000.000000"
      ]
     },
     "execution_count": 9,
     "metadata": {},
     "output_type": "execute_result"
    }
   ],
   "source": [
    "#general descriptive statistics for numerical variables\n",
    "df_customer.describe()"
   ]
  },
  {
   "cell_type": "markdown",
   "id": "4fd8118d-43ce-4f73-97bd-67d2a75651cf",
   "metadata": {},
   "source": [
    "1. Max age is 118, could be an outlier"
   ]
  },
  {
   "cell_type": "code",
   "execution_count": 10,
   "id": "96af6dbd-3e78-4ced-a7bd-276650ba2cc4",
   "metadata": {},
   "outputs": [
    {
     "data": {
      "text/html": [
       "<div>\n",
       "<style scoped>\n",
       "    .dataframe tbody tr th:only-of-type {\n",
       "        vertical-align: middle;\n",
       "    }\n",
       "\n",
       "    .dataframe tbody tr th {\n",
       "        vertical-align: top;\n",
       "    }\n",
       "\n",
       "    .dataframe thead th {\n",
       "        text-align: right;\n",
       "    }\n",
       "</style>\n",
       "<table border=\"1\" class=\"dataframe\">\n",
       "  <thead>\n",
       "    <tr style=\"text-align: right;\">\n",
       "      <th></th>\n",
       "      <th>customer_id</th>\n",
       "      <th>gender</th>\n",
       "    </tr>\n",
       "  </thead>\n",
       "  <tbody>\n",
       "    <tr>\n",
       "      <th>count</th>\n",
       "      <td>17000</td>\n",
       "      <td>14825</td>\n",
       "    </tr>\n",
       "    <tr>\n",
       "      <th>unique</th>\n",
       "      <td>17000</td>\n",
       "      <td>3</td>\n",
       "    </tr>\n",
       "    <tr>\n",
       "      <th>top</th>\n",
       "      <td>e4052622e5ba45a8b96b59aba68cf068</td>\n",
       "      <td>M</td>\n",
       "    </tr>\n",
       "    <tr>\n",
       "      <th>freq</th>\n",
       "      <td>1</td>\n",
       "      <td>8484</td>\n",
       "    </tr>\n",
       "  </tbody>\n",
       "</table>\n",
       "</div>"
      ],
      "text/plain": [
       "                             customer_id gender\n",
       "count                              17000  14825\n",
       "unique                             17000      3\n",
       "top     e4052622e5ba45a8b96b59aba68cf068      M\n",
       "freq                                   1   8484"
      ]
     },
     "execution_count": 10,
     "metadata": {},
     "output_type": "execute_result"
    }
   ],
   "source": [
    "#Summary of numeric and categorical columns\n",
    "df_customer.describe(include='O')"
   ]
  },
  {
   "cell_type": "code",
   "execution_count": 11,
   "id": "dabdf27b-2dea-4974-a8fd-1f2111bff339",
   "metadata": {},
   "outputs": [
    {
     "data": {
      "text/plain": [
       "gender\n",
       "M    8484\n",
       "F    6129\n",
       "O     212\n",
       "Name: count, dtype: int64"
      ]
     },
     "execution_count": 11,
     "metadata": {},
     "output_type": "execute_result"
    }
   ],
   "source": [
    "#how many times a value is present in a column?\n",
    "df_customer.gender.value_counts()"
   ]
  },
  {
   "cell_type": "code",
   "execution_count": 12,
   "id": "8f453ea9-fae2-4695-95ce-dd2facc3ff91",
   "metadata": {},
   "outputs": [
    {
     "data": {
      "text/plain": [
       "array([[<Axes: title={'center': 'became_member_on'}>,\n",
       "        <Axes: title={'center': 'age'}>],\n",
       "       [<Axes: title={'center': 'income'}>, <Axes: >]], dtype=object)"
      ]
     },
     "execution_count": 12,
     "metadata": {},
     "output_type": "execute_result"
    },
    {
     "data": {
      "image/png": "[encoded data removed]",
      "text/plain": [
       "<Figure size 1500x1000 with 4 Axes>"
      ]
     },
     "metadata": {},
     "output_type": "display_data"
    }
   ],
   "source": [
    "#Histograms for numeric:\n",
    "df_customer.hist(figsize=(15, 10))"
   ]
  },
  {
   "cell_type": "code",
   "execution_count": 13,
   "id": "cbdbee79-816c-4397-b9eb-0ef99ceb75da",
   "metadata": {},
   "outputs": [
    {
     "data": {
      "text/html": [
       "<div>\n",
       "<style scoped>\n",
       "    .dataframe tbody tr th:only-of-type {\n",
       "        vertical-align: middle;\n",
       "    }\n",
       "\n",
       "    .dataframe tbody tr th {\n",
       "        vertical-align: top;\n",
       "    }\n",
       "\n",
       "    .dataframe thead th {\n",
       "        text-align: right;\n",
       "    }\n",
       "</style>\n",
       "<table border=\"1\" class=\"dataframe\">\n",
       "  <thead>\n",
       "    <tr style=\"text-align: right;\">\n",
       "      <th></th>\n",
       "      <th>customer_id</th>\n",
       "      <th>became_member_on</th>\n",
       "      <th>gender</th>\n",
       "      <th>age</th>\n",
       "      <th>income</th>\n",
       "    </tr>\n",
       "  </thead>\n",
       "  <tbody>\n",
       "    <tr>\n",
       "      <th>&lt;class 'float'&gt;</th>\n",
       "      <td>0</td>\n",
       "      <td>0</td>\n",
       "      <td>2175</td>\n",
       "      <td>0</td>\n",
       "      <td>17000</td>\n",
       "    </tr>\n",
       "    <tr>\n",
       "      <th>&lt;class 'int'&gt;</th>\n",
       "      <td>0</td>\n",
       "      <td>17000</td>\n",
       "      <td>0</td>\n",
       "      <td>17000</td>\n",
       "      <td>0</td>\n",
       "    </tr>\n",
       "    <tr>\n",
       "      <th>&lt;class 'str'&gt;</th>\n",
       "      <td>17000</td>\n",
       "      <td>0</td>\n",
       "      <td>14825</td>\n",
       "      <td>0</td>\n",
       "      <td>0</td>\n",
       "    </tr>\n",
       "  </tbody>\n",
       "</table>\n",
       "</div>"
      ],
      "text/plain": [
       "                 customer_id  became_member_on  gender    age  income\n",
       "<class 'float'>            0                 0    2175      0   17000\n",
       "<class 'int'>              0             17000       0  17000       0\n",
       "<class 'str'>          17000                 0   14825      0       0"
      ]
     },
     "execution_count": 13,
     "metadata": {},
     "output_type": "execute_result"
    }
   ],
   "source": [
    "#data type summary\n",
    "def column_type_summary(df):\n",
    "    summary = {}\n",
    "    for col in df.columns:\n",
    "        # Convert each type to a string\n",
    "        types = df[col].apply(lambda x: str(type(x))).value_counts()\n",
    "        summary[col] = types\n",
    "    return pd.DataFrame(summary).fillna(0).astype(int)\n",
    "\n",
    "\n",
    "\n",
    "column_type_summary(df_customer)"
   ]
  },
  {
   "cell_type": "code",
   "execution_count": 14,
   "id": "9d081dcc-f39b-416b-8e73-e2c318293dc2",
   "metadata": {},
   "outputs": [
    {
     "name": "stdout",
     "output_type": "stream",
     "text": [
      "Q1: 49000.0\n",
      "Q3: 80000.0\n",
      "IQR: 31000.0\n",
      "Lower Bound: 2500.0\n",
      "Upper Bound: 126500.0\n"
     ]
    },
    {
     "data": {
      "text/html": [
       "<div>\n",
       "<style scoped>\n",
       "    .dataframe tbody tr th:only-of-type {\n",
       "        vertical-align: middle;\n",
       "    }\n",
       "\n",
       "    .dataframe tbody tr th {\n",
       "        vertical-align: top;\n",
       "    }\n",
       "\n",
       "    .dataframe thead th {\n",
       "        text-align: right;\n",
       "    }\n",
       "</style>\n",
       "<table border=\"1\" class=\"dataframe\">\n",
       "  <thead>\n",
       "    <tr style=\"text-align: right;\">\n",
       "      <th></th>\n",
       "      <th>customer_id</th>\n",
       "      <th>became_member_on</th>\n",
       "      <th>gender</th>\n",
       "      <th>age</th>\n",
       "      <th>income</th>\n",
       "    </tr>\n",
       "  </thead>\n",
       "  <tbody>\n",
       "  </tbody>\n",
       "</table>\n",
       "</div>"
      ],
      "text/plain": [
       "Empty DataFrame\n",
       "Columns: [customer_id, became_member_on, gender, age, income]\n",
       "Index: []"
      ]
     },
     "execution_count": 14,
     "metadata": {},
     "output_type": "execute_result"
    }
   ],
   "source": [
    "# Get IQR\n",
    "Q1 = df_customer['income'].quantile(0.25)\n",
    "Q3 = df_customer['income'].quantile(0.75)\n",
    "IQR = Q3 - Q1\n",
    "print(f\"Q1: {Q1}\")\n",
    "print(f\"Q3: {Q3}\")\n",
    "print(f\"IQR: {IQR}\")\n",
    "\n",
    "# Define the upper and lower bounds for outliers\n",
    "lower_bound = Q1 - 1.5 * IQR\n",
    "upper_bound = Q3 + 1.5 * IQR\n",
    "print(f\"Lower Bound: {lower_bound}\")\n",
    "print(f\"Upper Bound: {upper_bound}\")\n",
    "\n",
    "#see the dataframe for outliers\n",
    "df_customer[(df_customer['income']< lower_bound) | (df_customer['income']> upper_bound)]"
   ]
  },
  {
   "cell_type": "code",
   "execution_count": 15,
   "id": "fd872fe5-be70-45dc-9850-218e49476c2a",
   "metadata": {},
   "outputs": [],
   "source": [
    "def get_negative_values(df):\n",
    "    negative_data = {}\n",
    "    numeric_cols = df.select_dtypes(include=['number']).columns\n",
    "\n",
    "    for col in numeric_cols:\n",
    "        neg_rows = df[df[col] <= 0]\n",
    "        if not neg_rows.empty:\n",
    "            negative_data[col] = neg_rows\n",
    "\n",
    "    return negative_data\n",
    "\n"
   ]
  },
  {
   "cell_type": "code",
   "execution_count": 16,
   "id": "76cba0ba-5169-460d-92cd-200479012183",
   "metadata": {},
   "outputs": [
    {
     "data": {
      "text/plain": [
       "{}"
      ]
     },
     "execution_count": 16,
     "metadata": {},
     "output_type": "execute_result"
    }
   ],
   "source": [
    "get_negative_values(df_customer)"
   ]
  },
  {
   "cell_type": "code",
   "execution_count": 17,
   "id": "9d467282-d60b-43f6-a6a9-8878cceee1e6",
   "metadata": {},
   "outputs": [
    {
     "data": {
      "text/plain": [
       "customer_id         17000\n",
       "became_member_on     1716\n",
       "gender                  3\n",
       "age                    85\n",
       "income                 91\n",
       "dtype: int64"
      ]
     },
     "execution_count": 17,
     "metadata": {},
     "output_type": "execute_result"
    }
   ],
   "source": [
    "df_customer.nunique()"
   ]
  },
  {
   "cell_type": "code",
   "execution_count": 66,
   "id": "0cfb4ea7-0603-4caf-9148-8b7d01f36477",
   "metadata": {},
   "outputs": [],
   "source": [
    "def initial_report(df):\n",
    "    print(\" *** DATA CLEANING CHECKLIST ***\\n\" + \"-\"*40)\n",
    "\n",
    "    print(f\"*** Structure:\\n- Total Rows: {df.shape[0]}\\n- Total Columns: {df.shape[1]}\")\n",
    "    print(f\"- Column Names: {list(df.columns)}\\n\")\n",
    "\n",
    "    \n",
    "    print(\"📌 Data Types:\")\n",
    "    for col, dtype in df.dtypes.items():\n",
    "        print(f\"  {col}: {dtype}\")\n",
    "    print()\n",
    "\n",
    "    print(\"🧬 Mixed Data Types:\")\n",
    "    for col in df.columns:\n",
    "        try:\n",
    "            type_counts = df[col].apply(type).value_counts()\n",
    "            if len(type_counts) > 1:\n",
    "                print(f\"  {col}:\")\n",
    "                for t, count in type_counts.items():\n",
    "                    print(f\"    - {t.__name__}: {count}\")\n",
    "        except Exception as e:\n",
    "            print(f\"  {col}: Error checking types - {e}\")\n",
    "    print()\n",
    "\n",
    "    print(\"*** Distinct Values per Column:\")\n",
    "    for col in df.columns:\n",
    "        print(f\"  {col}: {df[col].nunique()}\")\n",
    "    print()\n",
    "\n",
    "    print(\"*** Null Values and Percentages:\")\n",
    "    nulls = df.isnull().sum()\n",
    "    for col in df.columns:\n",
    "        pct_missing = np.mean(df[col].isnull())\n",
    "        if nulls[col] > 0: # Only print if there are missing values\n",
    "            print(f\"  {col}: Missing Values: {nulls[col]}, Pct: {round(pct_missing * 100, 3)}%\")\n",
    "    print()\n",
    "\n",
    "    \n",
    "    print(f\"\\n*** Duplicates: {df.duplicated().sum()}\")\n",
    "    constant_cols = df.columns[df.nunique() == 1].tolist()\n",
    "    if constant_cols:\n",
    "        print(f\"🧱 Constant Columns (no variance): {constant_cols}\")\n",
    "    print()\n",
    "\n",
    "    print(\"*** Negative or Zero Values:\")\n",
    "    for col in df.select_dtypes(include='number').columns:\n",
    "        count = (df[col] <= 0).sum()\n",
    "        if count > 0:\n",
    "            print(f\"  {col}: {count}\")\n",
    "    print()\n",
    "\n",
    "\n",
    "    print(\"*** Basic Statistics:\")\n",
    "    stat=df.describe()\n",
    "    print(f\"{stat}\\n\")\n",
    "\n",
    "    print(\"*** Category Description:\")\n",
    "    stat=df.describe(include='O')\n",
    "    print(f\"{stat}\\n\")\n",
    "\n",
    "\n",
    "    print(\"*** Outliers (IQR method):\")\n",
    "    for col in df.select_dtypes(include='number').columns:\n",
    "        Q1 = df[col].quantile(0.25)\n",
    "        Q3 = df[col].quantile(0.75)\n",
    "        IQR = Q3 - Q1\n",
    "        lower_bound = Q1 - 1.5 * IQR\n",
    "        upper_bound = Q3 + 1.5 * IQR\n",
    "        outliers = df[(df[col] < lower_bound) | (df[col] > upper_bound)]\n",
    "        if not outliers.empty:\n",
    "            print(f\"  {col}: {len(outliers)} outliers\")\n",
    "            print(f\"    Lower Bound: {lower_bound:.2f}\")  # Limiting to 2 decimal places for display\n",
    "            print(f\"    Upper Bound: {upper_bound:.2f}\")  # Limiting to 2 decimal places for display\n",
    "        else:\n",
    "            print(f\"  {col}: No outliers\")\n",
    "            print(f\"    Lower Bound: {lower_bound:.2f}\")\n",
    "            print(f\"    Upper Bound: {upper_bound:.2f}\")\n",
    "    print(\"-\" * 40)\n"
   ]
  },
  {
   "cell_type": "code",
   "execution_count": 67,
   "id": "d2c5fddb-6221-44c6-bc08-e74979c9dc4e",
   "metadata": {},
   "outputs": [],
   "source": [
    "df_customer=pd.read_csv(\"customers.csv\")"
   ]
  },
  {
   "cell_type": "code",
   "execution_count": 68,
   "id": "f2b88ca9-5cad-437f-bddb-e88e092cab02",
   "metadata": {},
   "outputs": [
    {
     "name": "stdout",
     "output_type": "stream",
     "text": [
      " *** DATA CLEANING CHECKLIST ***\n",
      "----------------------------------------\n",
      "*** Structure:\n",
      "- Total Rows: 17000\n",
      "- Total Columns: 5\n",
      "- Column Names: ['customer_id', 'became_member_on', 'gender', 'age', 'income']\n",
      "\n",
      "📌 Data Types:\n",
      "  customer_id: object\n",
      "  became_member_on: int64\n",
      "  gender: object\n",
      "  age: int64\n",
      "  income: float64\n",
      "\n",
      "🧬 Mixed Data Types:\n",
      "  gender:\n",
      "    - str: 14825\n",
      "    - float: 2175\n",
      "\n",
      "*** Distinct Values per Column:\n",
      "  customer_id: 17000\n",
      "  became_member_on: 1716\n",
      "  gender: 3\n",
      "  age: 85\n",
      "  income: 91\n",
      "\n",
      "*** Null Values and Percentages:\n",
      "  gender: Missing Values: 2175, Pct: 12.794%\n",
      "  income: Missing Values: 2175, Pct: 12.794%\n",
      "\n",
      "\n",
      "*** Duplicates: 0\n",
      "\n",
      "*** Negative or Zero Values:\n",
      "\n",
      "*** Basic Statistics:\n",
      "       became_member_on           age         income\n",
      "count      1.700000e+04  17000.000000   14825.000000\n",
      "mean       2.016703e+07     62.531412   65404.991568\n",
      "std        1.167750e+04     26.738580   21598.299410\n",
      "min        2.013073e+07     18.000000   30000.000000\n",
      "25%        2.016053e+07     45.000000   49000.000000\n",
      "50%        2.017080e+07     58.000000   64000.000000\n",
      "75%        2.017123e+07     73.000000   80000.000000\n",
      "max        2.018073e+07    118.000000  120000.000000\n",
      "\n",
      "*** Category Description:\n",
      "                             customer_id gender\n",
      "count                              17000  14825\n",
      "unique                             17000      3\n",
      "top     e4052622e5ba45a8b96b59aba68cf068      M\n",
      "freq                                   1   8484\n",
      "\n",
      "📈 Outliers (IQR method):\n",
      "  became_member_on: 977 outliers\n",
      "    Lower Bound: 20144470.00\n",
      "    Upper Bound: 20187286.00\n",
      "  age: 2175 outliers\n",
      "    Lower Bound: 3.00\n",
      "    Upper Bound: 115.00\n",
      "  income: No outliers\n",
      "    Lower Bound: 2500.00\n",
      "    Upper Bound: 126500.00\n",
      "----------------------------------------\n"
     ]
    }
   ],
   "source": [
    "initial_report(df_customer)"
   ]
  },
  {
   "cell_type": "code",
   "execution_count": null,
   "id": "eab4d9e3-fadb-4adf-a7e9-9d68faa3700d",
   "metadata": {},
   "outputs": [],
   "source": []
  }
 ],
 "metadata": {
  "kernelspec": {
   "display_name": "Python 3 (ipykernel)",
   "language": "python",
   "name": "python3"
  },
  "language_info": {
   "codemirror_mode": {
    "name": "ipython",
    "version": 3
   },
   "file_extension": ".py",
   "mimetype": "text/x-python",
   "name": "python",
   "nbconvert_exporter": "python",
   "pygments_lexer": "ipython3",
   "version": "3.10.11"
  }
 },
 "nbformat": 4,
 "nbformat_minor": 5
}
